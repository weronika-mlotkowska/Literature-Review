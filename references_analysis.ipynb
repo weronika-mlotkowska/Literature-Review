{
 "cells": [
  {
   "cell_type": "code",
   "execution_count": 1,
   "id": "91a91131",
   "metadata": {},
   "outputs": [],
   "source": [
    "import numpy as np\n",
    "import pandas as pd\n",
    "import json"
   ]
  },
  {
   "cell_type": "code",
   "execution_count": null,
   "id": "7bc98ccd",
   "metadata": {},
   "outputs": [],
   "source": [
    "#Get sample DOIs list\n",
    "#Skip if you have your list of DOIs\n",
    "from crossref.restful import Works\n",
    "\n",
    "works = Works()\n",
    "dois=[]\n",
    "for item in works.sample(100):\n",
    "   dois.append(item['DOI'])\n",
    "\n",
    "with open(\"files/dois.txt\", \"w\") as f:\n",
    "    for doi in dois:\n",
    "        f.write(str(doi) +\"\\n\")   \n",
    "    f.close()"
   ]
  },
  {
   "cell_type": "code",
   "execution_count": 2,
   "id": "96eb3388",
   "metadata": {},
   "outputs": [],
   "source": [
    "#Load DOIs\n",
    "file = open('files/dois.txt','r')\n",
    "dois = file.read().split('\\n')\n",
    "file.close()"
   ]
  },
  {
   "cell_type": "markdown",
   "id": "ac494388",
   "metadata": {},
   "source": [
    "## Get Papers Info"
   ]
  },
  {
   "cell_type": "code",
   "execution_count": 5,
   "id": "1ea53d61",
   "metadata": {},
   "outputs": [],
   "source": [
    "import data_extraction"
   ]
  },
  {
   "cell_type": "code",
   "execution_count": 3,
   "id": "5c1a304d",
   "metadata": {},
   "outputs": [],
   "source": [
    "# Get references\n",
    "def get_references(dois):\n",
    "    papers={}\n",
    "    for doi in dois:\n",
    "        work=data_extraction.get_data(doi)\n",
    "        if work:\n",
    "            ref=data_extraction.references(work,doi)\n",
    "            title,year=data_extraction.title_year(work)\n",
    "            papers[doi]={'title':title,'ref':ref,'year':year}\n",
    "    return papers"
   ]
  },
  {
   "cell_type": "code",
   "execution_count": 6,
   "id": "c8551952",
   "metadata": {},
   "outputs": [
    {
     "name": "stdout",
     "output_type": "stream",
     "text": [
      "Error fetching title for 10.1371/journal.pone.0323002.s004: list index out of range\n",
      "Error fetching title for 10.1371/journal.pone.0237584.g003: list index out of range\n",
      "Error fetching title for 10.1371/journal.pone.0218687.s012: list index out of range\n",
      "Error fetching title for 10.22206/cys.2007.v32i1: list index out of range\n",
      "Error fetching title for 10.1117/12.3055189.53cd772d-7d8f-ef11-a9a2-00505691c5e1: list index out of range\n",
      "Error fetching title for 10.1111/jpe.2006.43.issue-5: list index out of range\n",
      "Error fetching title for 10.1371/journal.pgen.1004581.g004: list index out of range\n",
      "Error fetching title for 10.1093/oed/5737451289: list index out of range\n"
     ]
    }
   ],
   "source": [
    "papers=get_references(dois)"
   ]
  },
  {
   "cell_type": "code",
   "execution_count": 7,
   "id": "02491184",
   "metadata": {},
   "outputs": [],
   "source": [
    "with open('files/papers_info.json', 'w') as fp:\n",
    "    json.dump(papers, fp)"
   ]
  },
  {
   "cell_type": "markdown",
   "id": "f7816ddb",
   "metadata": {},
   "source": [
    "### Get References Count"
   ]
  },
  {
   "cell_type": "code",
   "execution_count": 5,
   "id": "f244236f",
   "metadata": {},
   "outputs": [],
   "source": [
    "\n",
    "with open('files/papers_info.json', 'r') as fp:\n",
    "    papers = json.load(fp)\n"
   ]
  },
  {
   "cell_type": "code",
   "execution_count": 8,
   "id": "75fcafa1",
   "metadata": {},
   "outputs": [],
   "source": [
    "def get_ref_counts(data):\n",
    "    references=[]\n",
    "    for key in list(data.keys()):\n",
    "        references.extend(data[key]['ref'])\n",
    "    values, counts = np.unique(references, return_counts=True)\n",
    "    ref_counts={}\n",
    "    for i,value in enumerate(values):\n",
    "        ref_counts[value]=counts[i]\n",
    "    return references,ref_counts"
   ]
  },
  {
   "cell_type": "code",
   "execution_count": 9,
   "id": "4803bd66",
   "metadata": {},
   "outputs": [
    {
     "name": "stdout",
     "output_type": "stream",
     "text": [
      "1350 1347\n"
     ]
    }
   ],
   "source": [
    "references_all,references_unique=get_ref_counts(papers)\n",
    "print(len(references_all),len(list(references_unique.keys())))"
   ]
  },
  {
   "cell_type": "code",
   "execution_count": 10,
   "id": "e266b8d4",
   "metadata": {},
   "outputs": [],
   "source": [
    "def get_most_cited(references,freq=10):\n",
    "    most_cited={}\n",
    "    for key in list(references.keys()):\n",
    "        if references[key]>=freq:\n",
    "            most_cited[key]=references[key]\n",
    "    return most_cited"
   ]
  },
  {
   "cell_type": "code",
   "execution_count": 13,
   "id": "7e8ddd0f",
   "metadata": {},
   "outputs": [
    {
     "data": {
      "text/plain": [
       "1347"
      ]
     },
     "execution_count": 13,
     "metadata": {},
     "output_type": "execute_result"
    }
   ],
   "source": [
    "most_cited=get_most_cited(references_unique,1)\n",
    "len(list(most_cited.keys()))"
   ]
  },
  {
   "cell_type": "markdown",
   "id": "ae26047b",
   "metadata": {},
   "source": [
    "# Most Cited Info"
   ]
  },
  {
   "cell_type": "code",
   "execution_count": 14,
   "id": "67b68a7f",
   "metadata": {},
   "outputs": [
    {
     "name": "stdout",
     "output_type": "stream",
     "text": [
      "Error fetching data for 10.1002/(SICI)1521-4141(200004)30:4<1127::AID-IMMU1127>3.0.CO;2-#: 404 Client Error: Not Found for url: https://api.crossref.org/works/10.1002/(SICI)1521-4141(200004)30:4%3C1127::AID-IMMU1127%3E3.0.CO;2-\n",
      "Error fetching title for 10.1023/a:1007753421236: list index out of range\n"
     ]
    }
   ],
   "source": [
    "papers_info=[]\n",
    "for doi in list(most_cited.keys()):\n",
    "    if doi in list(papers.keys()):\n",
    "        year=papers[doi]['year']\n",
    "        title=papers[doi]['title']\n",
    "        in_dataset='Yes'\n",
    "    else:\n",
    "        data=data_extraction.get_data(doi)\n",
    "        in_dataset='No'\n",
    "        if data:\n",
    "            title,year=data_extraction.title_year(data)\n",
    "        else:\n",
    "            title,year='-','-'\n",
    "\n",
    "    papers_info.append([title,doi,most_cited[doi], in_dataset, year])\n"
   ]
  },
  {
   "cell_type": "code",
   "execution_count": 15,
   "id": "af4bada1",
   "metadata": {},
   "outputs": [],
   "source": [
    "most_cited_df=pd.DataFrame(data=papers_info,columns=['title','doi','no_citations','in_dataset','year'])\n",
    "most_cited_df=most_cited_df.sort_values(by=['no_citations'],ascending=False)\n",
    "most_cited_df.to_csv('files/most_cited.csv')"
   ]
  },
  {
   "cell_type": "code",
   "execution_count": null,
   "id": "0d176596",
   "metadata": {},
   "outputs": [],
   "source": []
  }
 ],
 "metadata": {
  "kernelspec": {
   "display_name": "unienv",
   "language": "python",
   "name": "python3"
  },
  "language_info": {
   "codemirror_mode": {
    "name": "ipython",
    "version": 3
   },
   "file_extension": ".py",
   "mimetype": "text/x-python",
   "name": "python",
   "nbconvert_exporter": "python",
   "pygments_lexer": "ipython3",
   "version": "3.8.13"
  }
 },
 "nbformat": 4,
 "nbformat_minor": 5
}
